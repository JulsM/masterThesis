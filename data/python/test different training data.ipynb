{
 "cells": [
  {
   "cell_type": "code",
   "execution_count": 1,
   "metadata": {
    "scrolled": true
   },
   "outputs": [
    {
     "name": "stdout",
     "output_type": "stream",
     "text": [
      "Load Data\n",
      "Start training\n",
      "\n",
      "Iteration  1\n",
      "train size:  69  test size:  4\n",
      "dist: 8.01 km, elev: 199.81 m, time: 31.75 min, predicted time: 28.05 min, accuracy: 88.34 %\n",
      "dist: 21.09 km, elev: 83.72 m, time: 81.98 min, predicted time: 82.47 min, accuracy: 99.41 %\n",
      "dist: 9.88 km, elev: 16.74 m, time: 37.03 min, predicted time: 33.67 min, accuracy: 90.91 %\n",
      "dist: 9.97 km, elev: 5.81 m, time: 36.52 min, predicted time: 33.91 min, accuracy: 92.85 %\n",
      "Test set evaluation\n",
      "Mean Squared Error: 8.0211 min\n",
      "Mean Absolute Error: 2.5404 min\n",
      "Root Mean Squared Error: 2.8321 min\n",
      "Accuracy: 92.88 % \n",
      "\n",
      "Iteration  2\n",
      "train size:  69  test size:  4\n",
      "dist: 9.52 km, elev: 125.39 m, time: 37.28 min, predicted time: 35.17 min, accuracy: 94.32 %\n",
      "dist: 10.07 km, elev: 62.84 m, time: 37.97 min, predicted time: 37.50 min, accuracy: 98.77 %\n",
      "dist: 5.37 km, elev: 69.45 m, time: 19.58 min, predicted time: 19.98 min, accuracy: 97.99 %\n",
      "dist: 5.09 km, elev: 38.43 m, time: 18.45 min, predicted time: 17.91 min, accuracy: 97.08 %\n",
      "Test set evaluation\n",
      "Mean Squared Error: 1.2877 min\n",
      "Mean Absolute Error: 0.8796 min\n",
      "Root Mean Squared Error: 1.1347 min\n",
      "Accuracy: 97.04 % \n",
      "\n",
      "Iteration  3\n",
      "train size:  69  test size:  4\n",
      "dist: 5.05 km, elev: 3.91 m, time: 17.32 min, predicted time: 18.04 min, accuracy: 95.84 %\n",
      "dist: 10.09 km, elev: 3.32 m, time: 38.48 min, predicted time: 35.63 min, accuracy: 92.58 %\n",
      "dist: 10.11 km, elev: 11.90 m, time: 37.47 min, predicted time: 36.54 min, accuracy: 97.53 %\n",
      "dist: 12.32 km, elev: 330.36 m, time: 59.48 min, predicted time: 58.55 min, accuracy: 98.43 %\n",
      "Test set evaluation\n",
      "Mean Squared Error: 2.6000 min\n",
      "Mean Absolute Error: 1.3582 min\n",
      "Root Mean Squared Error: 1.6125 min\n",
      "Accuracy: 96.10 % \n",
      "\n",
      "Iteration  4\n",
      "train size:  66  test size:  7\n",
      "dist: 21.06 km, elev: 73.92 m, time: 80.35 min, predicted time: 84.62 min, accuracy: 94.68 %\n",
      "dist: 10.39 km, elev: 93.15 m, time: 40.90 min, predicted time: 40.78 min, accuracy: 99.72 %\n",
      "dist: 10.05 km, elev: 20.99 m, time: 36.03 min, predicted time: 39.03 min, accuracy: 91.68 %\n",
      "dist: 10.01 km, elev: 35.81 m, time: 39.50 min, predicted time: 38.29 min, accuracy: 96.93 %\n",
      "dist: 10.03 km, elev: 17.38 m, time: 38.12 min, predicted time: 38.82 min, accuracy: 98.14 %\n",
      "dist: 10.02 km, elev: 19.53 m, time: 36.48 min, predicted time: 40.34 min, accuracy: 89.43 %\n",
      "dist: 10.06 km, elev: 74.88 m, time: 39.48 min, predicted time: 41.83 min, accuracy: 94.06 %\n",
      "Test set evaluation\n",
      "Mean Squared Error: 7.0872 min\n",
      "Mean Absolute Error: 2.2158 min\n",
      "Root Mean Squared Error: 2.6622 min\n",
      "Accuracy: 94.95 % \n",
      "\n",
      "\n",
      "Mean Metrics for 4-fold cross validation:\n",
      "MSE: 4.75 min\n",
      "MAE: 1.75 min\n",
      "RMSE: 2.06 min\n",
      "Accuracy: 95.24 %\n"
     ]
    }
   ],
   "source": [
    "%run raceTimePredictor.py"
   ]
  },
  {
   "cell_type": "code",
   "execution_count": 1,
   "metadata": {
    "scrolled": true
   },
   "outputs": [
    {
     "name": "stdout",
     "output_type": "stream",
     "text": [
      "Load Data\n",
      "Start training\n",
      "\n",
      "Iteration  1\n",
      "train size:  167  test size:  4\n",
      "dist: 8.01 km, elev: 199.81 m, time: 31.75 min, predicted time: 30.61 min, accuracy: 96.41 %\n",
      "dist: 21.09 km, elev: 83.72 m, time: 81.98 min, predicted time: 81.81 min, accuracy: 99.79 %\n",
      "dist: 9.88 km, elev: 16.74 m, time: 37.03 min, predicted time: 35.96 min, accuracy: 97.11 %\n",
      "dist: 9.97 km, elev: 5.81 m, time: 36.52 min, predicted time: 36.99 min, accuracy: 98.71 %\n",
      "Test set evaluation\n",
      "Mean Squared Error: 0.6739 min\n",
      "Mean Absolute Error: 0.7138 min\n",
      "Root Mean Squared Error: 0.8209 min\n",
      "Accuracy: 98.00 % \n",
      "\n",
      "Iteration  2\n",
      "train size:  167  test size:  4\n",
      "dist: 9.52 km, elev: 125.39 m, time: 37.28 min, predicted time: 34.62 min, accuracy: 92.84 %\n",
      "dist: 10.07 km, elev: 62.84 m, time: 37.97 min, predicted time: 36.79 min, accuracy: 96.90 %\n",
      "dist: 5.37 km, elev: 69.45 m, time: 19.58 min, predicted time: 15.66 min, accuracy: 79.98 %\n",
      "dist: 5.09 km, elev: 38.43 m, time: 18.45 min, predicted time: 12.82 min, accuracy: 69.50 %\n",
      "Test set evaluation\n",
      "Mean Squared Error: 13.8821 min\n",
      "Mean Absolute Error: 3.3479 min\n",
      "Root Mean Squared Error: 3.7259 min\n",
      "Accuracy: 84.81 % \n",
      "\n",
      "Iteration  3\n",
      "train size:  167  test size:  4\n",
      "dist: 5.05 km, elev: 3.91 m, time: 17.32 min, predicted time: 18.99 min, accuracy: 90.35 %\n",
      "dist: 10.09 km, elev: 3.32 m, time: 38.48 min, predicted time: 38.71 min, accuracy: 99.41 %\n",
      "dist: 10.11 km, elev: 11.90 m, time: 37.47 min, predicted time: 38.53 min, accuracy: 97.16 %\n",
      "dist: 12.32 km, elev: 330.36 m, time: 59.48 min, predicted time: 62.94 min, accuracy: 94.20 %\n",
      "Test set evaluation\n",
      "Mean Squared Error: 3.9737 min\n",
      "Mean Absolute Error: 1.6037 min\n",
      "Root Mean Squared Error: 1.9934 min\n",
      "Accuracy: 95.28 % \n",
      "\n",
      "Iteration  4\n",
      "train size:  164  test size:  7\n",
      "dist: 21.06 km, elev: 73.92 m, time: 80.35 min, predicted time: 85.27 min, accuracy: 93.88 %\n",
      "dist: 10.39 km, elev: 93.15 m, time: 40.90 min, predicted time: 39.64 min, accuracy: 96.93 %\n",
      "dist: 10.05 km, elev: 20.99 m, time: 36.03 min, predicted time: 41.03 min, accuracy: 86.14 %\n",
      "dist: 10.01 km, elev: 35.81 m, time: 39.50 min, predicted time: 38.99 min, accuracy: 98.70 %\n",
      "dist: 10.03 km, elev: 17.38 m, time: 38.12 min, predicted time: 38.53 min, accuracy: 98.93 %\n",
      "dist: 10.02 km, elev: 19.53 m, time: 36.48 min, predicted time: 40.48 min, accuracy: 89.04 %\n",
      "dist: 10.06 km, elev: 74.88 m, time: 39.48 min, predicted time: 41.41 min, accuracy: 95.12 %\n",
      "Test set evaluation\n",
      "Mean Squared Error: 10.1144 min\n",
      "Mean Absolute Error: 2.5729 min\n",
      "Root Mean Squared Error: 3.1803 min\n",
      "Accuracy: 94.11 % \n",
      "\n",
      "\n",
      "Mean Metrics for 4-fold cross validation:\n",
      "MSE: 7.16 min\n",
      "MAE: 2.06 min\n",
      "RMSE: 2.43 min\n",
      "Accuracy: 93.05 %\n"
     ]
    }
   ],
   "source": [
    "%run raceTimePredictor.py"
   ]
  }
 ],
 "metadata": {
  "kernelspec": {
   "display_name": "Python 3",
   "language": "python",
   "name": "python3"
  },
  "language_info": {
   "codemirror_mode": {
    "name": "ipython",
    "version": 3
   },
   "file_extension": ".py",
   "mimetype": "text/x-python",
   "name": "python",
   "nbconvert_exporter": "python",
   "pygments_lexer": "ipython3",
   "version": "3.6.3"
  }
 },
 "nbformat": 4,
 "nbformat_minor": 2
}
